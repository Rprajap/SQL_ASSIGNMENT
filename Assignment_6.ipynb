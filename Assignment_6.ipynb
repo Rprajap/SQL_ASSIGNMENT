{
 "cells": [
  {
   "cell_type": "markdown",
   "id": "f502ba97",
   "metadata": {},
   "source": [
    "**Q.1.** Write an SQL query to print details of the Workers who have joined in Feb’2014.\n",
    "\n",
    "**Answer:-**"
   ]
  },
  {
   "cell_type": "markdown",
   "id": "72812ed6",
   "metadata": {},
   "source": [
    "#Method-1\n",
    "SELECT * FROM Worker WHERE YEAR(JOINING_DATE) = 2014 AND MONTH(JOINING_DATE) = 02;\n",
    "\n",
    "#Method-1\n",
    "SELECT * FROM Worker WHERE JOINING_DATE LIKE \"%2014-02%\""
   ]
  },
  {
   "cell_type": "markdown",
   "id": "63aed224",
   "metadata": {},
   "source": [
    "**Q.2.** Write an SQL query to fetch duplicate records having matching data in some fields of a table.\n",
    "\n",
    "**Answer:-**"
   ]
  },
  {
   "cell_type": "markdown",
   "id": "c29f49ad",
   "metadata": {},
   "source": [
    "SELECT column_name, COUNT(column_name) FROM table_name GROUP BY column_name HAVING COUNT(column_name) > 1;"
   ]
  },
  {
   "cell_type": "markdown",
   "id": "b33aa4e6",
   "metadata": {},
   "source": [
    "**Q.3.** How to remove duplicate rows from Employees table."
   ]
  },
  {
   "cell_type": "markdown",
   "id": "c2723411",
   "metadata": {},
   "source": [
    "DELETE t1 from Employees as  t1\n",
    "INNER JOIN  Employees as  t2 \n",
    "WHERE \n",
    "    t1.id < t2.id AND \n",
    "    t1.email = t2.email;"
   ]
  }
 ],
 "metadata": {
  "kernelspec": {
   "display_name": "Python 3 (ipykernel)",
   "language": "python",
   "name": "python3"
  },
  "language_info": {
   "codemirror_mode": {
    "name": "ipython",
    "version": 3
   },
   "file_extension": ".py",
   "mimetype": "text/x-python",
   "name": "python",
   "nbconvert_exporter": "python",
   "pygments_lexer": "ipython3",
   "version": "3.9.7"
  }
 },
 "nbformat": 4,
 "nbformat_minor": 5
}
