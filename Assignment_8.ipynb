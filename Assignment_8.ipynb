{
 "cells": [
  {
   "cell_type": "markdown",
   "id": "1421141f",
   "metadata": {},
   "source": [
    "**Q.1** Write an SQL query to fetch intersecting records of two tables.\n",
    "\n",
    "**Answer**:-"
   ]
  },
  {
   "cell_type": "code",
   "execution_count": null,
   "id": "3fa27cf3",
   "metadata": {},
   "outputs": [],
   "source": [
    "# table-1 Worker & table-2 WorkerClone.\n",
    "SELECT * FROM Worker\n",
    "INTERSECT\n",
    "SELECT * FROM WorkerClone;"
   ]
  },
  {
   "cell_type": "markdown",
   "id": "1ddf307e",
   "metadata": {},
   "source": [
    "**Q.2.** Write an SQL query to show records from one table that another table does not have.\n",
    "\n",
    "**Answer**:-"
   ]
  },
  {
   "cell_type": "code",
   "execution_count": null,
   "id": "45e78c58",
   "metadata": {},
   "outputs": [],
   "source": [
    "SELECT t1.name\n",
    "FROM table1 t1\n",
    "LEFT JOIN table2 t2 ON t2.name = t1.name\n",
    "WHERE t2.name IS NULL"
   ]
  }
 ],
 "metadata": {
  "kernelspec": {
   "display_name": "Python 3 (ipykernel)",
   "language": "python",
   "name": "python3"
  },
  "language_info": {
   "codemirror_mode": {
    "name": "ipython",
    "version": 3
   },
   "file_extension": ".py",
   "mimetype": "text/x-python",
   "name": "python",
   "nbconvert_exporter": "python",
   "pygments_lexer": "ipython3",
   "version": "3.9.7"
  }
 },
 "nbformat": 4,
 "nbformat_minor": 5
}
