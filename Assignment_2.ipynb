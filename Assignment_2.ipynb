{
 "cells": [
  {
   "cell_type": "markdown",
   "id": "ef7785ae",
   "metadata": {},
   "source": [
    "**Q.1**. Write an SQL query to print the first three characters of  FIRST_NAME from Worker table.\n",
    "\n",
    "**Answer**:-"
   ]
  },
  {
   "cell_type": "code",
   "execution_count": null,
   "id": "d1c245fb",
   "metadata": {},
   "outputs": [],
   "source": [
    "SELECT SUBSTRING(FIRST_NAME,1,3) FROM Worker;"
   ]
  },
  {
   "cell_type": "markdown",
   "id": "b2ddbf1f",
   "metadata": {},
   "source": [
    "**Q-2**. Write an SQL query to find the position of the alphabet (‘a’) in the first name column ‘Amitabh’ from Worker table.\n",
    "\n",
    "**Answer**:- m"
   ]
  },
  {
   "cell_type": "code",
   "execution_count": null,
   "id": "a5b34849",
   "metadata": {},
   "outputs": [],
   "source": [
    "SELECT POSITION(\"A\" IN  FIRST_NAME) FROM Worker WHERE FIRST_NAME='Amitabh';"
   ]
  },
  {
   "cell_type": "markdown",
   "id": "459f5d4d",
   "metadata": {},
   "source": [
    "**Q-3**. Write an SQL query to print the name of employees having the highest salary in each department.\n",
    "\n",
    "**Answer**:-"
   ]
  },
  {
   "cell_type": "code",
   "execution_count": null,
   "id": "1b887285",
   "metadata": {},
   "outputs": [],
   "source": [
    "SELECT   MAX(SALARY),FIRST_NAME,LAST_NAME, FROM Worker GROUP BY DEPARTMENT ;"
   ]
  }
 ],
 "metadata": {
  "kernelspec": {
   "display_name": "Python 3 (ipykernel)",
   "language": "python",
   "name": "python3"
  },
  "language_info": {
   "codemirror_mode": {
    "name": "ipython",
    "version": 3
   },
   "file_extension": ".py",
   "mimetype": "text/x-python",
   "name": "python",
   "nbconvert_exporter": "python",
   "pygments_lexer": "ipython3",
   "version": "3.9.7"
  }
 },
 "nbformat": 4,
 "nbformat_minor": 5
}
