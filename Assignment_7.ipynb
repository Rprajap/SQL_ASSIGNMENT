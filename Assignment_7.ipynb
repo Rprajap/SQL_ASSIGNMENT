{
 "cells": [
  {
   "cell_type": "markdown",
   "id": "e8b4a1e5",
   "metadata": {},
   "source": [
    "**Q.1.** Write an SQL query to show only odd rows from a table.\n",
    "\n",
    "**Answer:-**"
   ]
  },
  {
   "cell_type": "markdown",
   "id": "1a160237",
   "metadata": {},
   "source": [
    "SELECT * \n",
    "FROM Worker \n",
    "Where MOD(worker_id,2) = 1"
   ]
  },
  {
   "cell_type": "markdown",
   "id": "03f851d8",
   "metadata": {},
   "source": [
    "**Q.2.** Write an SQL query to clone a new table from another table.\n",
    "\n",
    "**Answer**:- "
   ]
  },
  {
   "cell_type": "markdown",
   "id": "cc81d50e",
   "metadata": {},
   "source": [
    "CREATE TABLE new_Worker SELECT * FROM Worker;"
   ]
  }
 ],
 "metadata": {
  "kernelspec": {
   "display_name": "Python 3 (ipykernel)",
   "language": "python",
   "name": "python3"
  },
  "language_info": {
   "codemirror_mode": {
    "name": "ipython",
    "version": 3
   },
   "file_extension": ".py",
   "mimetype": "text/x-python",
   "name": "python",
   "nbconvert_exporter": "python",
   "pygments_lexer": "ipython3",
   "version": "3.9.7"
  }
 },
 "nbformat": 4,
 "nbformat_minor": 5
}
