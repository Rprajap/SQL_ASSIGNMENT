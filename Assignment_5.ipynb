{
 "cells": [
  {
   "cell_type": "markdown",
   "id": "6291608f",
   "metadata": {},
   "source": [
    "**Q.1.** Write an SQL query to print details of workers excluding first names, “Vipul” and “Satish” from Worker table.\n",
    "\n",
    "**Answer:-**"
   ]
  },
  {
   "cell_type": "markdown",
   "id": "7d5b4fb5",
   "metadata": {},
   "source": [
    "SELECT * FROM Worker WHERE FIRST_NAME NOT IN ('Vipul','Satish');"
   ]
  },
  {
   "cell_type": "markdown",
   "id": "c1086e5c",
   "metadata": {},
   "source": [
    "**Q.2.** Write an SQL query to print details of the Workers whose FIRST_NAME ends with ‘h’ and contains six alphabets.\n",
    "\n",
    "**Answer:-**"
   ]
  },
  {
   "cell_type": "markdown",
   "id": "50e681e2",
   "metadata": {},
   "source": [
    "SELECT * FROM Worker WHERE FIRST_NAME LIKE '%h' and LENGTH(FIRST_NAME) = 6;"
   ]
  },
  {
   "cell_type": "markdown",
   "id": "154e8f35",
   "metadata": {},
   "source": [
    "**Q.3.** Write a query to validate Email of Employee.\n",
    "\n",
    "**Answer:-"
   ]
  },
  {
   "cell_type": "markdown",
   "id": "c6ffce77",
   "metadata": {},
   "source": [
    "SELECT * FROM Worker WHERE email LIKE '%@gmail.com';"
   ]
  }
 ],
 "metadata": {
  "kernelspec": {
   "display_name": "Python 3 (ipykernel)",
   "language": "python",
   "name": "python3"
  },
  "language_info": {
   "codemirror_mode": {
    "name": "ipython",
    "version": 3
   },
   "file_extension": ".py",
   "mimetype": "text/x-python",
   "name": "python",
   "nbconvert_exporter": "python",
   "pygments_lexer": "ipython3",
   "version": "3.9.7"
  }
 },
 "nbformat": 4,
 "nbformat_minor": 5
}
