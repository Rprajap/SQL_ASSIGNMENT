{
 "cells": [
  {
   "cell_type": "markdown",
   "id": "947726d1",
   "metadata": {},
   "source": [
    "**Q.1.** Write an SQL query to print the FIRST_NAME from Worker table after removing white spaces from the right side.\n",
    "\n",
    "**Answer:-**"
   ]
  },
  {
   "cell_type": "markdown",
   "id": "682529be",
   "metadata": {},
   "source": [
    "SELECT RTRIM(FIRST_NAME) FROM Worker;"
   ]
  },
  {
   "cell_type": "markdown",
   "id": "a8a48833",
   "metadata": {},
   "source": [
    "**Q.2.** Write an SQL query that fetches the unique values of DEPARTMENT from Worker table and prints its length.\n",
    "\n",
    "**Answer:-**"
   ]
  },
  {
   "cell_type": "markdown",
   "id": "8b633c58",
   "metadata": {},
   "source": [
    "select distinct( length(DEPARTMENT)),DEPARTMENT from worker group by  DEPARTMENT;"
   ]
  },
  {
   "cell_type": "markdown",
   "id": "4440056d",
   "metadata": {},
   "source": [
    "**Q.3.** Write an SQL query to fetch nth max salaries from a table.\n",
    "\n",
    "**Answer:-**\n"
   ]
  },
  {
   "cell_type": "markdown",
   "id": "54d159b2",
   "metadata": {},
   "source": [
    "select * from worke ORDER BY `salary` \n",
    "DESC limit 5,1;"
   ]
  }
 ],
 "metadata": {
  "kernelspec": {
   "display_name": "Python 3 (ipykernel)",
   "language": "python",
   "name": "python3"
  },
  "language_info": {
   "codemirror_mode": {
    "name": "ipython",
    "version": 3
   },
   "file_extension": ".py",
   "mimetype": "text/x-python",
   "name": "python",
   "nbconvert_exporter": "python",
   "pygments_lexer": "ipython3",
   "version": "3.9.7"
  }
 },
 "nbformat": 4,
 "nbformat_minor": 5
}
