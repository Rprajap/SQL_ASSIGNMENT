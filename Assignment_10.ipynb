{
 "cells": [
  {
   "cell_type": "markdown",
   "id": "5e435df2",
   "metadata": {},
   "source": [
    "**Q.1.** Write an SQL query to determine the 5th highest salary without using TOP or limit method.\n",
    "\n",
    "**Answer**:-"
   ]
  },
  {
   "cell_type": "code",
   "execution_count": null,
   "id": "de54213b",
   "metadata": {},
   "outputs": [],
   "source": [
    "SELECT * FROM (  \n",
    "SELECT ROW_NUMBER() OVER (ORDER BY SALARY DESC) AS rownumber,Salary  \n",
    "FROM Worker )  \n",
    "AS foo  \n",
    "WHERE rownumber = 5"
   ]
  },
  {
   "cell_type": "markdown",
   "id": "00f17fd9",
   "metadata": {},
   "source": [
    "**Q.2.** Write an SQL query to fetch the list of employees with the same salary.\n",
    "\n",
    "**Answer**:-"
   ]
  },
  {
   "cell_type": "code",
   "execution_count": null,
   "id": "507d2dc9",
   "metadata": {},
   "outputs": [],
   "source": [
    "Select distinct W.WORKER_ID, W.FIRST_NAME, W.Salary \n",
    "from Worker W, Worker W1 \n",
    "where W.Salary = W1.Salary \n",
    "and W.WORKER_ID != W1.WORKER_ID;"
   ]
  }
 ],
 "metadata": {
  "kernelspec": {
   "display_name": "Python 3 (ipykernel)",
   "language": "python",
   "name": "python3"
  },
  "language_info": {
   "codemirror_mode": {
    "name": "ipython",
    "version": 3
   },
   "file_extension": ".py",
   "mimetype": "text/x-python",
   "name": "python",
   "nbconvert_exporter": "python",
   "pygments_lexer": "ipython3",
   "version": "3.9.7"
  }
 },
 "nbformat": 4,
 "nbformat_minor": 5
}
