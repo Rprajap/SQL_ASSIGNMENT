{
 "cells": [
  {
   "cell_type": "markdown",
   "id": "09ec7e73",
   "metadata": {},
   "source": [
    "**Q-1**. Write an SQL query to fetch “FIRST_NAME” from Worker table using the alias name as <WORKER_NAME>.\n",
    "\n",
    "**Answer**:-"
   ]
  },
  {
   "cell_type": "code",
   "execution_count": null,
   "id": "91e4552d",
   "metadata": {},
   "outputs": [],
   "source": [
    "SELECT FIRST_NAME FROM Worker AS WORKER_NAME;"
   ]
  },
  {
   "cell_type": "markdown",
   "id": "231eeee9",
   "metadata": {},
   "source": [
    "**Q-2**. Write an SQL query to fetch unique values of DEPARTMENT from Worker table.\n",
    "\n",
    "**Answer**:- "
   ]
  },
  {
   "cell_type": "code",
   "execution_count": null,
   "id": "c74fb605",
   "metadata": {},
   "outputs": [],
   "source": [
    "SELECT DISTINCT DEPARTMENT FROM Worker;"
   ]
  },
  {
   "cell_type": "markdown",
   "id": "44a89012",
   "metadata": {},
   "source": [
    "**Q-3**. Write an SQL query to show the last 5 record from a table.\n",
    "\n",
    "**Answer**:-"
   ]
  },
  {
   "cell_type": "code",
   "execution_count": null,
   "id": "aee230da",
   "metadata": {},
   "outputs": [],
   "source": [
    "SELECT * FROM Worker ORDER BY ID DESC LIMIT 5;"
   ]
  }
 ],
 "metadata": {
  "kernelspec": {
   "display_name": "Python 3 (ipykernel)",
   "language": "python",
   "name": "python3"
  },
  "language_info": {
   "codemirror_mode": {
    "name": "ipython",
    "version": 3
   },
   "file_extension": ".py",
   "mimetype": "text/x-python",
   "name": "python",
   "nbconvert_exporter": "python",
   "pygments_lexer": "ipython3",
   "version": "3.9.7"
  }
 },
 "nbformat": 4,
 "nbformat_minor": 5
}
