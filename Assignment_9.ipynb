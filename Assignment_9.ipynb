{
 "cells": [
  {
   "cell_type": "markdown",
   "id": "62991c0f",
   "metadata": {},
   "source": [
    "**Q.1.** Write an SQL query to show the top n (say 10) records of a table.\n",
    "\n",
    "**Answer**:-"
   ]
  },
  {
   "cell_type": "code",
   "execution_count": null,
   "id": "269bdfcc",
   "metadata": {},
   "outputs": [],
   "source": [
    "# Worker tableName\n",
    "SELECT * FROM Worker ORDER BY Salary DESC LIMIT 10;"
   ]
  },
  {
   "cell_type": "markdown",
   "id": "dac84e96",
   "metadata": {},
   "source": [
    "**Q.2.** Write an SQL query to determine the nth (say n=5) highest salary from a table.\n",
    "\n",
    "**Answer**:-"
   ]
  },
  {
   "cell_type": "code",
   "execution_count": null,
   "id": "004946da",
   "metadata": {},
   "outputs": [],
   "source": [
    "select * from worker order by salary DESC  limit 4,1;"
   ]
  }
 ],
 "metadata": {
  "kernelspec": {
   "display_name": "Python 3 (ipykernel)",
   "language": "python",
   "name": "python3"
  },
  "language_info": {
   "codemirror_mode": {
    "name": "ipython",
    "version": 3
   },
   "file_extension": ".py",
   "mimetype": "text/x-python",
   "name": "python",
   "nbconvert_exporter": "python",
   "pygments_lexer": "ipython3",
   "version": "3.9.7"
  }
 },
 "nbformat": 4,
 "nbformat_minor": 5
}
